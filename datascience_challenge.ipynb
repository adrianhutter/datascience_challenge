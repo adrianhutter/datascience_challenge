{
 "cells": [
  {
   "cell_type": "markdown",
   "metadata": {},
   "source": [
    "# Summary\n",
    "\n",
    "Starting from one day tick data for a single financical product, we try to predict events where a top-of-book price level \"goes.\" More precisely, for ticks that do have a bid/ask, we try to predict the probability that in the next-in-time tick which also has a bid/ask, the bid/ask will be lower/higher.\n",
    "\n",
    "We first explore the dataset and extract a subset of the ticks which is useful for model building. We then investigate a relatively small number of simple features which trading intuition suggests to be correlated with our quantity of interest. After extracting these features, we compare the performance of three models on a test set:\n",
    "* a baseline model which simply predicts the frequency of \"level goes\" events in the training set\n",
    "* logistic regression\n",
    "* a gradient boosting model\n",
    "\n",
    "As expected, we find these models to provide increasingly better results.\n",
    "\n",
    "We view this challenge as a regression problem as opposed to a classification problem -- classification would prematurely combine model building and decision theory and should depend on the relative cost of false positives and negatives. We use a maximum-likelihood approach for training and comparing different models. That is, the quantity we seek to minimize is the binary cross-entropy or deviance on the test set."
   ]
  },
  {
   "cell_type": "code",
   "execution_count": 1,
   "metadata": {
    "collapsed": true
   },
   "outputs": [],
   "source": [
    "%matplotlib inline\n",
    "\n",
    "import json\n",
    "import math\n",
    "import pickle\n",
    "import numpy as np\n",
    "import pandas as pd\n",
    "import matplotlib.pyplot as plt\n",
    "import seaborn as sns\n",
    "\n",
    "from collections import Counter\n",
    "from datetime import date\n",
    "from datetime import datetime\n",
    "\n",
    "from sklearn import ensemble\n",
    "from sklearn.linear_model import LogisticRegressionCV\n",
    "from sklearn.model_selection import KFold\n",
    "from sklearn.model_selection import train_test_split"
   ]
  },
  {
   "cell_type": "markdown",
   "metadata": {},
   "source": [
    "# Data exploration"
   ]
  },
  {
   "cell_type": "code",
   "execution_count": 2,
   "metadata": {
    "collapsed": true
   },
   "outputs": [],
   "source": [
    "def json_reader(file):\n",
    "    for line in open(file, mode=\"r\"):\n",
    "        yield json.loads(line)"
   ]
  },
  {
   "cell_type": "code",
   "execution_count": 3,
   "metadata": {
    "collapsed": true
   },
   "outputs": [],
   "source": [
    "data = list(json_reader('challenge.json'))"
   ]
  },
  {
   "cell_type": "code",
   "execution_count": 4,
   "metadata": {},
   "outputs": [
    {
     "data": {
      "text/plain": [
       "1262193"
      ]
     },
     "execution_count": 4,
     "metadata": {},
     "output_type": "execute_result"
    }
   ],
   "source": [
    "N = len(data); N"
   ]
  },
  {
   "cell_type": "code",
   "execution_count": 5,
   "metadata": {},
   "outputs": [
    {
     "data": {
      "text/plain": [
       "{'Ask', 'Bid', 'Trade', 'time'}"
      ]
     },
     "execution_count": 5,
     "metadata": {},
     "output_type": "execute_result"
    }
   ],
   "source": [
    "{key for tick in data for key in tick.keys()}"
   ]
  },
  {
   "cell_type": "code",
   "execution_count": 6,
   "metadata": {},
   "outputs": [
    {
     "data": {
      "text/plain": [
       "True"
      ]
     },
     "execution_count": 6,
     "metadata": {},
     "output_type": "execute_result"
    }
   ],
   "source": [
    "all('time' in tick and 'Trade' in tick for tick in data)"
   ]
  },
  {
   "cell_type": "code",
   "execution_count": 7,
   "metadata": {},
   "outputs": [
    {
     "data": {
      "text/plain": [
       "True"
      ]
     },
     "execution_count": 7,
     "metadata": {},
     "output_type": "execute_result"
    }
   ],
   "source": [
    "all(('Ask' in tick and 'Bid' in tick) or ('Ask' not in tick and 'Bid' not in tick) for tick in data)"
   ]
  },
  {
   "cell_type": "markdown",
   "metadata": {},
   "source": [
    "All ticks have a 'time' and a 'Trade' field (though the 'Trade' field can be empty). Not all of them have a 'Bid' and a 'Ask', but they always appear together."
   ]
  },
  {
   "cell_type": "code",
   "execution_count": 8,
   "metadata": {
    "collapsed": true
   },
   "outputs": [],
   "source": [
    "times = [tick['time'] for tick in data]"
   ]
  },
  {
   "cell_type": "code",
   "execution_count": 9,
   "metadata": {
    "collapsed": true
   },
   "outputs": [],
   "source": [
    "def timestamp_to_str(timestamp):\n",
    "    return datetime.fromtimestamp(timestamp // 10**9).strftime('%Y-%m-%d %H:%M:%S')"
   ]
  },
  {
   "cell_type": "code",
   "execution_count": 10,
   "metadata": {
    "collapsed": true
   },
   "outputs": [],
   "source": [
    "def str_to_timestamp(string, format='%Y-%m-%d %H:%M:%S'):\n",
    "    return int(datetime.strptime(string, format).strftime(\"%s\")) * 10**9"
   ]
  },
  {
   "cell_type": "code",
   "execution_count": 11,
   "metadata": {},
   "outputs": [
    {
     "data": {
      "text/plain": [
       "'2018-04-01 13:21:05'"
      ]
     },
     "execution_count": 11,
     "metadata": {},
     "output_type": "execute_result"
    }
   ],
   "source": [
    "timestamp_to_str(min(times))"
   ]
  },
  {
   "cell_type": "code",
   "execution_count": 12,
   "metadata": {},
   "outputs": [
    {
     "data": {
      "text/plain": [
       "'2018-04-01 22:15:31'"
      ]
     },
     "execution_count": 12,
     "metadata": {},
     "output_type": "execute_result"
    }
   ],
   "source": [
    "timestamp_to_str(max(times))"
   ]
  },
  {
   "cell_type": "code",
   "execution_count": 13,
   "metadata": {
    "collapsed": true
   },
   "outputs": [],
   "source": [
    "day = str_to_timestamp('2018-04-01', format='%Y-%m-%d')"
   ]
  },
  {
   "cell_type": "code",
   "execution_count": 14,
   "metadata": {
    "collapsed": true
   },
   "outputs": [],
   "source": [
    "def timestamp_to_hr(timestamp):\n",
    "    return (timestamp - day) / 10**9 / 3600"
   ]
  },
  {
   "cell_type": "code",
   "execution_count": 15,
   "metadata": {
    "collapsed": true
   },
   "outputs": [],
   "source": [
    "hours = [timestamp_to_hr(t) for t in times]"
   ]
  },
  {
   "cell_type": "code",
   "execution_count": 16,
   "metadata": {},
   "outputs": [
    {
     "data": {
      "image/png": "[encoded data removed]",
      "text/plain": [
       "<matplotlib.figure.Figure at 0x7f5c91cbdb70>"
      ]
     },
     "metadata": {},
     "output_type": "display_data"
    }
   ],
   "source": [
    "plt.scatter(hours, range(N));"
   ]
  },
  {
   "cell_type": "markdown",
   "metadata": {},
   "source": [
    "The data is far from sorted by time -- there is even a segment where ticks whose time differs by many minutes are interleaved (see below)."
   ]
  },
  {
   "cell_type": "code",
   "execution_count": 148,
   "metadata": {},
   "outputs": [
    {
     "data": {
      "text/plain": [
       "[19.333011387855557,\n",
       " 19.33301140937611,\n",
       " 19.333011412468057,\n",
       " 19.333012009383335,\n",
       " 19.902661859003057,\n",
       " 19.333134206872778,\n",
       " 19.902661901006113,\n",
       " 19.333134227156112,\n",
       " 19.902661901006113,\n",
       " 19.902670671169723,\n",
       " 19.902670671169723,\n",
       " 19.902778152836387,\n",
       " 19.902778152836387,\n",
       " 19.902800671838058,\n",
       " 19.902800671838058,\n",
       " 19.90280114265389,\n",
       " 19.9028089295,\n",
       " 19.902821331461112,\n",
       " 19.90282743264278,\n",
       " 19.90282743264278]"
      ]
     },
     "execution_count": 148,
     "metadata": {},
     "output_type": "execute_result"
    }
   ],
   "source": [
    "hours[380100:380120]"
   ]
  },
  {
   "cell_type": "code",
   "execution_count": 18,
   "metadata": {},
   "outputs": [
    {
     "data": {
      "image/png": "[encoded data removed]",
      "text/plain": [
       "<matplotlib.figure.Figure at 0x7f5c8f10c470>"
      ]
     },
     "metadata": {},
     "output_type": "display_data"
    }
   ],
   "source": [
    "plt.scatter(sorted(hours), range(N));"
   ]
  },
  {
   "cell_type": "code",
   "execution_count": 145,
   "metadata": {},
   "outputs": [
    {
     "data": {
      "text/plain": [
       "[15.000285134063335,\n",
       " 15.000285134063335,\n",
       " 15.000286216631666,\n",
       " 15.000286216631666,\n",
       " 15.000286216631666,\n",
       " 15.000286216631666,\n",
       " 15.000286216631666,\n",
       " 15.000286216631666,\n",
       " 15.000286216631666,\n",
       " 15.000286216631666]"
      ]
     },
     "execution_count": 145,
     "metadata": {},
     "output_type": "execute_result"
    }
   ],
   "source": [
    "sorted([t for t in hours if t > 14])[:10]"
   ]
  },
  {
   "cell_type": "markdown",
   "metadata": {},
   "source": [
    "It seems that 'real' trading in this instrument on 2018-04-01 started at 15:00 (in the time zone of the timestamps). The density of ticks between 15:00 and 15:45 is notably lower than after 15:45."
   ]
  },
  {
   "cell_type": "code",
   "execution_count": 20,
   "metadata": {
    "collapsed": true
   },
   "outputs": [],
   "source": [
    "def bid(tick):\n",
    "    return max([level['price'] for level in tick['Bid']]) \n",
    "\n",
    "def ask(tick):\n",
    "    return min([level['price'] for level in tick['Ask']]) \n",
    "\n",
    "def bsize(tick):\n",
    "    return max(tick['Bid'], key=lambda level: level['price'])['volume']\n",
    "\n",
    "def asize(tick):\n",
    "    return min(tick['Ask'], key=lambda level: level['price'])['volume']"
   ]
  },
  {
   "cell_type": "code",
   "execution_count": 21,
   "metadata": {},
   "outputs": [
    {
     "data": {
      "image/png": "[encoded data removed]",
      "text/plain": [
       "<matplotlib.figure.Figure at 0x7f5da4323cf8>"
      ]
     },
     "metadata": {},
     "output_type": "display_data"
    }
   ],
   "source": [
    "plt.scatter(*zip(*[(timestamp_to_hr(tick['time']), bid(tick)) for tick in data if tick.get('Bid', []) != []]));"
   ]
  },
  {
   "cell_type": "code",
   "execution_count": 22,
   "metadata": {},
   "outputs": [
    {
     "data": {
      "image/png": "[encoded data removed]",
      "text/plain": [
       "<matplotlib.figure.Figure at 0x7f5c8f10c5c0>"
      ]
     },
     "metadata": {},
     "output_type": "display_data"
    }
   ],
   "source": [
    "plt.scatter(*zip(*[(timestamp_to_hr(tick['time']), ask(tick)) for tick in data if tick.get('Ask', []) != []]));"
   ]
  },
  {
   "cell_type": "code",
   "execution_count": 23,
   "metadata": {},
   "outputs": [
    {
     "data": {
      "text/plain": [
       "Counter({'2018-04-01 15:45:01': 693,\n",
       "         '2018-04-01 16:51:40': 1,\n",
       "         '2018-04-01 16:53:38': 5,\n",
       "         '2018-04-01 16:55:42': 1,\n",
       "         '2018-04-01 17:00:03': 1,\n",
       "         '2018-04-01 17:02:12': 1,\n",
       "         '2018-04-01 19:33:40': 1,\n",
       "         '2018-04-01 19:34:41': 2,\n",
       "         '2018-04-01 19:40:51': 1,\n",
       "         '2018-04-01 19:41:14': 1,\n",
       "         '2018-04-01 20:21:44': 6,\n",
       "         '2018-04-01 20:22:01': 1,\n",
       "         '2018-04-01 20:22:03': 1,\n",
       "         '2018-04-01 20:23:30': 5,\n",
       "         '2018-04-01 20:23:55': 1,\n",
       "         '2018-04-01 20:27:05': 1,\n",
       "         '2018-04-01 20:35:13': 2,\n",
       "         '2018-04-01 20:43:27': 4,\n",
       "         '2018-04-01 20:44:05': 1,\n",
       "         '2018-04-01 20:44:39': 2,\n",
       "         '2018-04-01 22:15:01': 628})"
      ]
     },
     "execution_count": 23,
     "metadata": {},
     "output_type": "execute_result"
    }
   ],
   "source": [
    "Counter(timestamp_to_str(tick['time']) for tick in data if ('Bid' not in tick or 'Ask' not in tick) and tick['Trade'] != {})"
   ]
  },
  {
   "cell_type": "markdown",
   "metadata": {},
   "source": [
    "Crossed markets (bid > ask) and trades without a bid and ask mostly occur at 15:45 and 22:15; likely the opening and closing auction of this instrument. We restrict to ticks between these two times. We also discard ticks that have neither a bid/ask nor a trade and thus are useless for model building. Finally, there's a small number of trade ticks between the two auctions that don't have a bid/ask (see above); for simplicity, we also discard these.\n",
    "\n",
    "We also sort the ticks by time."
   ]
  },
  {
   "cell_type": "code",
   "execution_count": 24,
   "metadata": {},
   "outputs": [
    {
     "data": {
      "text/plain": [
       "831207"
      ]
     },
     "execution_count": 24,
     "metadata": {},
     "output_type": "execute_result"
    }
   ],
   "source": [
    "data = [tick for tick in data \n",
    "        if tick['time'] > str_to_timestamp('2018-04-01 15:45:30')\n",
    "        and tick['time'] < str_to_timestamp('2018-04-01 22:10:00')\n",
    "        and 'Ask' in tick and 'Bid' in tick\n",
    "       ]\n",
    "data = sorted(data, key=lambda tick: tick['time'])\n",
    "N = len(data); N"
   ]
  },
  {
   "cell_type": "code",
   "execution_count": 25,
   "metadata": {},
   "outputs": [
    {
     "data": {
      "text/plain": [
       "0.027754493248430292"
      ]
     },
     "execution_count": 25,
     "metadata": {},
     "output_type": "execute_result"
    }
   ],
   "source": [
    "(data[-1]['time'] - data[0]['time']) / N / 10**9"
   ]
  },
  {
   "cell_type": "markdown",
   "metadata": {},
   "source": [
    "On average, we have one (non-empty) tick per 28ms."
   ]
  },
  {
   "cell_type": "code",
   "execution_count": 26,
   "metadata": {},
   "outputs": [
    {
     "data": {
      "image/png": "[encoded data removed]",
      "text/plain": [
       "<matplotlib.figure.Figure at 0x7f5d6a02e7f0>"
      ]
     },
     "metadata": {},
     "output_type": "display_data"
    }
   ],
   "source": [
    "plt.scatter(*zip(*[(timestamp_to_hr(tick['time']), ask(tick) - bid(tick)) for tick in data]));"
   ]
  },
  {
   "cell_type": "code",
   "execution_count": 27,
   "metadata": {},
   "outputs": [
    {
     "data": {
      "text/plain": [
       "Counter({5.0: 803889, 10.0: 26569, 15.0: 505, 20.0: 187, 25.0: 49, 30.0: 8})"
      ]
     },
     "execution_count": 27,
     "metadata": {},
     "output_type": "execute_result"
    }
   ],
   "source": [
    "Counter(ask(tick) - bid(tick) for tick in data)"
   ]
  },
  {
   "cell_type": "code",
   "execution_count": 66,
   "metadata": {},
   "outputs": [
    {
     "data": {
      "image/png": "[encoded data removed]",
      "text/plain": [
       "<matplotlib.figure.Figure at 0x7f5d63841d68>"
      ]
     },
     "metadata": {},
     "output_type": "display_data"
    }
   ],
   "source": [
    "log_size_ratios = [math.log(asize(tick) / bsize(tick)) for tick in data]\n",
    "sns.distplot(log_size_ratios);"
   ]
  },
  {
   "cell_type": "code",
   "execution_count": 29,
   "metadata": {
    "collapsed": true
   },
   "outputs": [],
   "source": [
    "ask_gone = {i for i in range(1, N) if ask(data[i]) > ask(data[i-1])}\n",
    "bid_gone = {i for i in range(1, N) if bid(data[i]) < bid(data[i-1])}"
   ]
  },
  {
   "cell_type": "code",
   "execution_count": 30,
   "metadata": {},
   "outputs": [
    {
     "data": {
      "text/plain": [
       "(5441, 5440)"
      ]
     },
     "execution_count": 30,
     "metadata": {},
     "output_type": "execute_result"
    }
   ],
   "source": [
    "len(ask_gone), len(bid_gone)"
   ]
  },
  {
   "cell_type": "code",
   "execution_count": 31,
   "metadata": {},
   "outputs": [
    {
     "data": {
      "text/plain": [
       "(0.00654590252488249, 0.006544699455129709)"
      ]
     },
     "execution_count": 31,
     "metadata": {},
     "output_type": "execute_result"
    }
   ],
   "source": [
    "len(ask_gone) / N, len(bid_gone) / N"
   ]
  },
  {
   "cell_type": "code",
   "execution_count": 32,
   "metadata": {},
   "outputs": [
    {
     "data": {
      "text/plain": [
       "0.20311065715279106"
      ]
     },
     "execution_count": 32,
     "metadata": {},
     "output_type": "execute_result"
    }
   ],
   "source": [
    "trades = [i for i in range(N) if data[i]['Trade'] != {}]\n",
    "n_trades = len(trades)\n",
    "n_trades / N"
   ]
  },
  {
   "cell_type": "code",
   "execution_count": 33,
   "metadata": {},
   "outputs": [
    {
     "data": {
      "text/plain": [
       "1.0"
      ]
     },
     "execution_count": 33,
     "metadata": {},
     "output_type": "execute_result"
    }
   ],
   "source": [
    "len([i for i in trades if data[i]['Trade']['price'] in {bid(data[i-1]), ask(data[i-1])}]) / n_trades"
   ]
  },
  {
   "cell_type": "code",
   "execution_count": 34,
   "metadata": {},
   "outputs": [
    {
     "data": {
      "text/plain": [
       "0.9419820289408685"
      ]
     },
     "execution_count": 34,
     "metadata": {},
     "output_type": "execute_result"
    }
   ],
   "source": [
    "len([i for i in trades if data[i]['Trade']['price'] in {bid(data[i]), ask(data[i])}]) / n_trades"
   ]
  },
  {
   "cell_type": "code",
   "execution_count": 35,
   "metadata": {},
   "outputs": [
    {
     "data": {
      "text/plain": [
       "[(0, 0.9047794117647059),\n",
       " (1, 0.6952205882352941),\n",
       " (2, 0.6659926470588236),\n",
       " (3, 0.6172794117647059)]"
      ]
     },
     "execution_count": 35,
     "metadata": {},
     "output_type": "execute_result"
    }
   ],
   "source": [
    "[(lag, len([i for i in bid_gone if data[i-lag]['Trade'] != {}]) / len(bid_gone)) for lag in range(4)]"
   ]
  },
  {
   "cell_type": "code",
   "execution_count": 36,
   "metadata": {},
   "outputs": [
    {
     "data": {
      "text/plain": [
       "[(0, 0.8956074251056791),\n",
       " (1, 0.6967469215217791),\n",
       " (2, 0.6643999264841022),\n",
       " (3, 0.6155118544385223)]"
      ]
     },
     "execution_count": 36,
     "metadata": {},
     "output_type": "execute_result"
    }
   ],
   "source": [
    "[(lag, len([i for i in ask_gone if data[i-lag]['Trade'] != {}]) / len(ask_gone)) for lag in range(4)]"
   ]
  },
  {
   "cell_type": "markdown",
   "metadata": {},
   "source": [
    "Summary of exploration so far:\n",
    "* We have 831k ticks with a bid and an ask between the opening and closing auctions.\n",
    "* On average, we have one tick per 28ms.\n",
    "* Spreads are strictly positive, multiples of 5, and mostly 5.\n",
    "* `bid-size / ask-size` is approximately log-normally distributed.\n",
    "* 20% of the ticks are trades.\n",
    "* Trades always happen at the previous bid or ask.\n",
    "* For 94% of trades, the price level at which it happens persists.\n",
    "* There are around 5440 'bid gone' and 'ask gone' events each, corresponding to around 0.7% of the ticks.\n",
    "* In 90% of cases, these ticks are trades.\n",
    "* Ticks before \"bid gone\" or \"ask gone\" are also much more likely to be trades than random ticks."
   ]
  },
  {
   "cell_type": "markdown",
   "metadata": {},
   "source": [
    "# Feature extraction\n",
    "\n",
    "Trading intuition suggests that the following features might be useful for predicting \"bid gone\" events (analogously for \"ask gone\"):\n",
    "* Trades on the bid are more likely to be followed by \"bid gone\" events than non-trades or trades on the ask.\n",
    "* If the level immediately behind the bid is empty, the bid is more likely to \"go.\"\n",
    "* If the ask size is larger/smaller than the bid size, the bid is more/less likely to \"go.\"\n",
    "* If the bid size is large (irrespective of the ask size), the bid is less likely to \"go.\" (A large bid size is more likely than a small one to consist of multiple orders, which are unlikely to cancel simultaneously.)\n",
    "  \n",
    "Before we start building models, let us briefly look at each of these features separately. \n",
    "\n",
    "We first define a utility function that allows us to visualize potentially non-linear dependencies."
   ]
  },
  {
   "cell_type": "code",
   "execution_count": 37,
   "metadata": {
    "collapsed": true
   },
   "outputs": [],
   "source": [
    "def cumulative_sort_plot(x, y):\n",
    "    '''Plot cumulative sums of y, with values sorted by x'''\n",
    "    df = pd.DataFrame({'x': x, 'y': y})\n",
    "    df = df.sort_values(by=['x'])\n",
    "    fig, ax = plt.subplots()\n",
    "    n = len(x)\n",
    "    ax.scatter(range(n), df['y'].cumsum())\n",
    "    plt.xlabel('count, sorted by x', fontsize=16)\n",
    "    plt.ylabel('cumulative(y)', fontsize=16)\n",
    "    print(f'Mean and std dev of x: {df[\"x\"].mean()}, {df[\"x\"].std()}')\n",
    "    print('Percentile x-values:')\n",
    "    for i in range(1, 10):\n",
    "        print(f'{int(10*i)}%: {df.iloc[int(i/10*n)][\"x\"]}')"
   ]
  },
  {
   "cell_type": "markdown",
   "metadata": {},
   "source": [
    "We also introduce a notion of \"recent trade counts\". Intuition suggest to add the volume of recent trades with some exponent in (0, 1). That is, a trade of size 100 should count more than a trade of size 10, but less than 10 trades of size 10."
   ]
  },
  {
   "cell_type": "code",
   "execution_count": 38,
   "metadata": {
    "collapsed": true
   },
   "outputs": [],
   "source": [
    "def trade_counts(exponent, halflife, side):\n",
    "    '''Sum of volume**exponent of recent trades\n",
    "    Halflife in ns; side should be in {'bid', 'ask'}\n",
    "    '''\n",
    "    counts = np.zeros((N,), dtype=np.float64)\n",
    "    cnt = 0.\n",
    "    for i in range(1, N):\n",
    "        delta_t = data[i]['time'] - data[i-1]['time']\n",
    "        cnt *= 0.5**(delta_t/halflife)\n",
    "        if 'volume' in data[i]['Trade']:\n",
    "            pr = data[i]['Trade']['price']\n",
    "            if (side == 'bid' and pr == bid(data[i-1])) or (side == 'ask' and pr == ask(data[i-1])):\n",
    "                cnt += data[i]['Trade']['volume']**exponent\n",
    "        counts[i] = cnt\n",
    "    return counts"
   ]
  },
  {
   "cell_type": "code",
   "execution_count": 39,
   "metadata": {
    "collapsed": true
   },
   "outputs": [],
   "source": [
    "trade_cnts_bid = trade_counts(0.5, 10**4, 'bid')\n",
    "trade_cnts_ask = trade_counts(0.5, 10**4, 'ask')"
   ]
  },
  {
   "cell_type": "markdown",
   "metadata": {},
   "source": [
    "For each tick, we define a binary feature which tells whether the bid/ask \"goes\" on the next tick. (Recall that we only kept ticks that have a bid and an ask.) These is the target that we want to predict."
   ]
  },
  {
   "cell_type": "code",
   "execution_count": 40,
   "metadata": {
    "collapsed": true
   },
   "outputs": [],
   "source": [
    "bid_goes_next_tick = np.array([i+1 in bid_gone for i in range(N)])\n",
    "ask_goes_next_tick = np.array([i+1 in ask_gone for i in range(N)])"
   ]
  },
  {
   "cell_type": "markdown",
   "metadata": {},
   "source": [
    "We see that \"bid goes\" events mostly happen when the count of recent trades on the bid is \"non-zero\". The count of recent trades on the ask seems to have little predictive power for \"bid goes\" events. The same is analogously true for \"ask goes\" events. We find these patterns to be very robust to the choice of halflife and exponent."
   ]
  },
  {
   "cell_type": "code",
   "execution_count": 41,
   "metadata": {},
   "outputs": [
    {
     "name": "stdout",
     "output_type": "stream",
     "text": [
      "Mean and std dev of x: 1.1097143028932914, 4.920409035752229\n",
      "Percentile x-values:\n",
      "10%: 0.0\n",
      "20%: 0.0\n",
      "30%: 0.0\n",
      "40%: 0.0\n",
      "50%: 0.0\n",
      "60%: 0.0\n",
      "70%: 3.0844634048337754e-84\n",
      "80%: 4.930659068955611e-13\n",
      "90%: 1.0\n"
     ]
    },
    {
     "data": {
      "image/png": "[encoded data removed]",
      "text/plain": [
       "<matplotlib.figure.Figure at 0x7f5d9c115b00>"
      ]
     },
     "metadata": {},
     "output_type": "display_data"
    }
   ],
   "source": [
    "cumulative_sort_plot(trade_cnts_bid, bid_goes_next_tick)"
   ]
  },
  {
   "cell_type": "code",
   "execution_count": 42,
   "metadata": {},
   "outputs": [
    {
     "name": "stdout",
     "output_type": "stream",
     "text": [
      "Mean and std dev of x: 1.2096773071473135, 5.121831108950387\n",
      "Percentile x-values:\n",
      "10%: 0.0\n",
      "20%: 0.0\n",
      "30%: 0.0\n",
      "40%: 0.0\n",
      "50%: 0.0\n",
      "60%: 0.0\n",
      "70%: 5.115917992523951e-55\n",
      "80%: 1.5627382028859458e-10\n",
      "90%: 1.0855551284407128\n"
     ]
    },
    {
     "data": {
      "image/png": "[encoded data removed]",
      "text/plain": [
       "<matplotlib.figure.Figure at 0x7f5d67438cf8>"
      ]
     },
     "metadata": {},
     "output_type": "display_data"
    }
   ],
   "source": [
    "cumulative_sort_plot(trade_cnts_ask, bid_goes_next_tick)"
   ]
  },
  {
   "cell_type": "code",
   "execution_count": 43,
   "metadata": {},
   "outputs": [
    {
     "name": "stdout",
     "output_type": "stream",
     "text": [
      "Mean and std dev of x: 1.2096773071473135, 5.121831108950387\n",
      "Percentile x-values:\n",
      "10%: 0.0\n",
      "20%: 0.0\n",
      "30%: 0.0\n",
      "40%: 0.0\n",
      "50%: 0.0\n",
      "60%: 0.0\n",
      "70%: 5.115917992523951e-55\n",
      "80%: 1.5627382028859458e-10\n",
      "90%: 1.0855551284407128\n"
     ]
    },
    {
     "data": {
      "image/png": "[encoded data removed]",
      "text/plain": [
       "<matplotlib.figure.Figure at 0x7f5d66ebfef0>"
      ]
     },
     "metadata": {},
     "output_type": "display_data"
    }
   ],
   "source": [
    "cumulative_sort_plot(trade_cnts_ask, ask_goes_next_tick)"
   ]
  },
  {
   "cell_type": "code",
   "execution_count": 44,
   "metadata": {},
   "outputs": [
    {
     "name": "stdout",
     "output_type": "stream",
     "text": [
      "Mean and std dev of x: 1.1097143028932914, 4.920409035752229\n",
      "Percentile x-values:\n",
      "10%: 0.0\n",
      "20%: 0.0\n",
      "30%: 0.0\n",
      "40%: 0.0\n",
      "50%: 0.0\n",
      "60%: 0.0\n",
      "70%: 3.0844634048337754e-84\n",
      "80%: 4.930659068955611e-13\n",
      "90%: 1.0\n"
     ]
    },
    {
     "data": {
      "image/png": "[encoded data removed]",
      "text/plain": [
       "<matplotlib.figure.Figure at 0x7f5d6681b748>"
      ]
     },
     "metadata": {},
     "output_type": "display_data"
    }
   ],
   "source": [
    "cumulative_sort_plot(trade_cnts_bid, ask_goes_next_tick)"
   ]
  },
  {
   "cell_type": "code",
   "execution_count": 45,
   "metadata": {
    "collapsed": true
   },
   "outputs": [],
   "source": [
    "MPV = 5"
   ]
  },
  {
   "cell_type": "code",
   "execution_count": 46,
   "metadata": {},
   "outputs": [
    {
     "data": {
      "text/plain": [
       "5.7747348133497434e-05"
      ]
     },
     "execution_count": 46,
     "metadata": {},
     "output_type": "execute_result"
    }
   ],
   "source": [
    "empty_behind_bid = [i for i, tick in enumerate(data) if bid(tick)-MPV not in {level['price'] for level in tick['Bid']}]\n",
    "len(empty_behind_bid) / N"
   ]
  },
  {
   "cell_type": "code",
   "execution_count": 47,
   "metadata": {},
   "outputs": [
    {
     "data": {
      "text/plain": [
       "5.173199936959145e-05"
      ]
     },
     "execution_count": 47,
     "metadata": {},
     "output_type": "execute_result"
    }
   ],
   "source": [
    "empty_behind_ask = [i for i, tick in enumerate(data) if ask(tick)+MPV not in {level['price'] for level in tick['Ask']}]\n",
    "len(empty_behind_ask) / N"
   ]
  },
  {
   "cell_type": "code",
   "execution_count": 48,
   "metadata": {},
   "outputs": [
    {
     "data": {
      "text/plain": [
       "0.0625"
      ]
     },
     "execution_count": 48,
     "metadata": {},
     "output_type": "execute_result"
    }
   ],
   "source": [
    "len([i for i in empty_behind_bid if i+1 in bid_gone]) / len(empty_behind_bid)"
   ]
  },
  {
   "cell_type": "code",
   "execution_count": 49,
   "metadata": {},
   "outputs": [
    {
     "data": {
      "text/plain": [
       "0.23255813953488372"
      ]
     },
     "execution_count": 49,
     "metadata": {},
     "output_type": "execute_result"
    }
   ],
   "source": [
    "len([i for i in empty_behind_ask if i+1 in ask_gone]) / len(empty_behind_ask)"
   ]
  },
  {
   "cell_type": "markdown",
   "metadata": {},
   "source": [
    "If the level behind the bid/ask is empty, the probability that the bid/ask \"goes\" is over an order of magnitude higher than on a random tick. However, since ticks with an empty level behind the bid/ask are so rare (5e-5), this is unlikely to be a very valuable feature."
   ]
  },
  {
   "cell_type": "code",
   "execution_count": 50,
   "metadata": {
    "collapsed": true
   },
   "outputs": [],
   "source": [
    "asizes = np.array([asize(tick) for tick in data])\n",
    "bsizes = np.array([bsize(tick) for tick in data])"
   ]
  },
  {
   "cell_type": "code",
   "execution_count": 51,
   "metadata": {
    "collapsed": true
   },
   "outputs": [],
   "source": [
    "log_sz_ratios = np.log(asizes / bsizes)"
   ]
  },
  {
   "cell_type": "code",
   "execution_count": 52,
   "metadata": {},
   "outputs": [
    {
     "data": {
      "text/plain": [
       "(-0.0021590780186464837, 1.6688908833158731)"
      ]
     },
     "execution_count": 52,
     "metadata": {},
     "output_type": "execute_result"
    }
   ],
   "source": [
    "np.average(log_sz_ratios), np.std(log_sz_ratios)"
   ]
  },
  {
   "cell_type": "code",
   "execution_count": 53,
   "metadata": {},
   "outputs": [
    {
     "data": {
      "text/plain": [
       "(4.2922738667804516, -4.2518867494708186)"
      ]
     },
     "execution_count": 53,
     "metadata": {},
     "output_type": "execute_result"
    }
   ],
   "source": [
    "np.average(log_sz_ratios[bid_goes_next_tick]), np.average(log_sz_ratios[ask_goes_next_tick])"
   ]
  },
  {
   "cell_type": "markdown",
   "metadata": {},
   "source": [
    "Before a level \"goes\", the logarithmic size ratio of the bid and ask differs on average by more than two standard deviations from its zero mean."
   ]
  },
  {
   "cell_type": "code",
   "execution_count": 54,
   "metadata": {},
   "outputs": [
    {
     "data": {
      "text/plain": [
       "(0.0065446994551297093, 0.00654590252488249)"
      ]
     },
     "execution_count": 54,
     "metadata": {},
     "output_type": "execute_result"
    }
   ],
   "source": [
    "np.average(bid_goes_next_tick), np.average(ask_goes_next_tick)"
   ]
  },
  {
   "cell_type": "code",
   "execution_count": 55,
   "metadata": {},
   "outputs": [
    {
     "data": {
      "text/plain": [
       "(0.29817538633401602, 0.29815278045025978)"
      ]
     },
     "execution_count": 55,
     "metadata": {},
     "output_type": "execute_result"
    }
   ],
   "source": [
    "np.average(bid_goes_next_tick[log_sz_ratios > 4]), np.average(ask_goes_next_tick[log_sz_ratios < -4])"
   ]
  },
  {
   "cell_type": "markdown",
   "metadata": {},
   "source": [
    "Similarly, if the size on the bid and ask differ by a ratio of more than e^4, the probability that the \"bid/ask goes\" is almost two orders of magnitude higher than the base rate."
   ]
  },
  {
   "cell_type": "code",
   "execution_count": 58,
   "metadata": {},
   "outputs": [
    {
     "name": "stdout",
     "output_type": "stream",
     "text": [
      "Mean and std dev of x: -0.002159078018644254, 1.6688918872127223\n",
      "Percentile x-values:\n",
      "10%: -2.0281482472922856\n",
      "20%: -1.2973468751033945\n",
      "30%: -0.8034952377288106\n",
      "40%: -0.39102442395337\n",
      "50%: -0.01785761740000646\n",
      "60%: 0.3566749439387324\n",
      "70%: 0.7899970065498629\n",
      "80%: 1.291757078429914\n",
      "90%: 2.061129738037498\n"
     ]
    },
    {
     "data": {
      "image/png": "[encoded data removed]",
      "text/plain": [
       "<matplotlib.figure.Figure at 0x7f5d66736630>"
      ]
     },
     "metadata": {},
     "output_type": "display_data"
    }
   ],
   "source": [
    "cumulative_sort_plot(log_sz_ratios, bid_goes_next_tick)"
   ]
  },
  {
   "cell_type": "code",
   "execution_count": 59,
   "metadata": {},
   "outputs": [
    {
     "name": "stdout",
     "output_type": "stream",
     "text": [
      "Mean and std dev of x: -0.002159078018644254, 1.6688918872127223\n",
      "Percentile x-values:\n",
      "10%: -2.0281482472922856\n",
      "20%: -1.2973468751033945\n",
      "30%: -0.8034952377288106\n",
      "40%: -0.39102442395337\n",
      "50%: -0.01785761740000646\n",
      "60%: 0.3566749439387324\n",
      "70%: 0.7899970065498629\n",
      "80%: 1.291757078429914\n",
      "90%: 2.061129738037498\n"
     ]
    },
    {
     "data": {
      "image/png": "[encoded data removed]",
      "text/plain": [
       "<matplotlib.figure.Figure at 0x7f5d65d2eb00>"
      ]
     },
     "metadata": {},
     "output_type": "display_data"
    }
   ],
   "source": [
    "cumulative_sort_plot(log_sz_ratios, ask_goes_next_tick)"
   ]
  },
  {
   "cell_type": "markdown",
   "metadata": {},
   "source": [
    "Almost all \"bid/ask goes\" events happen if the size ratio of the bid and the ask takes a value in the most extreme 10%."
   ]
  },
  {
   "cell_type": "code",
   "execution_count": 60,
   "metadata": {},
   "outputs": [
    {
     "name": "stdout",
     "output_type": "stream",
     "text": [
      "Mean and std dev of x: 155.38878041209952, 108.74031660200203\n",
      "Percentile x-values:\n",
      "10%: 30\n",
      "20%: 60\n",
      "30%: 93\n",
      "40%: 124\n",
      "50%: 149\n",
      "60%: 171\n",
      "70%: 196\n",
      "80%: 227\n",
      "90%: 274\n"
     ]
    },
    {
     "data": {
      "image/png": "[encoded data removed]",
      "text/plain": [
       "<matplotlib.figure.Figure at 0x7f5d6577a940>"
      ]
     },
     "metadata": {},
     "output_type": "display_data"
    }
   ],
   "source": [
    "cumulative_sort_plot(bsizes, bid_goes_next_tick)"
   ]
  },
  {
   "cell_type": "code",
   "execution_count": 61,
   "metadata": {},
   "outputs": [
    {
     "name": "stdout",
     "output_type": "stream",
     "text": [
      "Mean and std dev of x: 158.31742875120156, 112.37505767993788\n",
      "Percentile x-values:\n",
      "10%: 29\n",
      "20%: 57\n",
      "30%: 87\n",
      "40%: 120\n",
      "50%: 147\n",
      "60%: 171\n",
      "70%: 199\n",
      "80%: 236\n",
      "90%: 296\n"
     ]
    },
    {
     "data": {
      "image/png": "[encoded data removed]",
      "text/plain": [
       "<matplotlib.figure.Figure at 0x7f5d6514dc88>"
      ]
     },
     "metadata": {},
     "output_type": "display_data"
    }
   ],
   "source": [
    "cumulative_sort_plot(asizes, ask_goes_next_tick)"
   ]
  },
  {
   "cell_type": "markdown",
   "metadata": {},
   "source": [
    "Similarly, almost all \"bid/ask gone\" events happen after a tick in which the size on the bid/ask is at most a few dozen."
   ]
  },
  {
   "cell_type": "code",
   "execution_count": 62,
   "metadata": {},
   "outputs": [
    {
     "name": "stdout",
     "output_type": "stream",
     "text": [
      "Mean and std dev of x: 158.31742875120156, 112.37505767993788\n",
      "Percentile x-values:\n",
      "10%: 29\n",
      "20%: 57\n",
      "30%: 87\n",
      "40%: 120\n",
      "50%: 147\n",
      "60%: 171\n",
      "70%: 199\n",
      "80%: 236\n",
      "90%: 296\n"
     ]
    },
    {
     "data": {
      "image/png": "[encoded data removed]",
      "text/plain": [
       "<matplotlib.figure.Figure at 0x7f5d64b55208>"
      ]
     },
     "metadata": {},
     "output_type": "display_data"
    }
   ],
   "source": [
    "cumulative_sort_plot(asizes, bid_goes_next_tick)"
   ]
  },
  {
   "cell_type": "code",
   "execution_count": 64,
   "metadata": {},
   "outputs": [
    {
     "name": "stdout",
     "output_type": "stream",
     "text": [
      "Mean and std dev of x: 155.38878041209952, 108.74031660200203\n",
      "Percentile x-values:\n",
      "10%: 30\n",
      "20%: 60\n",
      "30%: 93\n",
      "40%: 124\n",
      "50%: 149\n",
      "60%: 171\n",
      "70%: 196\n",
      "80%: 227\n",
      "90%: 274\n"
     ]
    },
    {
     "data": {
      "image/png": "[encoded data removed]",
      "text/plain": [
       "<matplotlib.figure.Figure at 0x7f5d63c8cda0>"
      ]
     },
     "metadata": {},
     "output_type": "display_data"
    }
   ],
   "source": [
    "cumulative_sort_plot(bsizes, ask_goes_next_tick)"
   ]
  },
  {
   "cell_type": "markdown",
   "metadata": {},
   "source": [
    "The bid/ask almost never \"goes\" if the size on the other side of the order book is small."
   ]
  },
  {
   "cell_type": "markdown",
   "metadata": {},
   "source": [
    "# Prepare features"
   ]
  },
  {
   "cell_type": "markdown",
   "metadata": {},
   "source": [
    "Change the \"empty behind\" feature from a set to binary list."
   ]
  },
  {
   "cell_type": "code",
   "execution_count": 65,
   "metadata": {
    "collapsed": true
   },
   "outputs": [],
   "source": [
    "empty_behind_bid = [i in empty_behind_bid for i in range(N)]\n",
    "empty_behind_ask = [i in empty_behind_ask for i in range(N)]"
   ]
  },
  {
   "cell_type": "markdown",
   "metadata": {},
   "source": [
    "In order to make the coefficients we get out of logistic regression somewhat interpretable, we want to transform the non-binary features to be approximately unit normal distributions. While log_sz_ratio is already symmetric, the top-of-book sizes have some skew. We take the square root to make them approximately symmetric.\n",
    "\n",
    "The trade_cnts features are already close to binary (mostly zero, some values of order unity)."
   ]
  },
  {
   "cell_type": "code",
   "execution_count": 69,
   "metadata": {},
   "outputs": [
    {
     "data": {
      "image/png": "[encoded data removed]",
      "text/plain": [
       "<matplotlib.figure.Figure at 0x7f5d5fd62358>"
      ]
     },
     "metadata": {},
     "output_type": "display_data"
    }
   ],
   "source": [
    "sns.distplot(bsizes), sns.distplot(asizes);"
   ]
  },
  {
   "cell_type": "code",
   "execution_count": 70,
   "metadata": {},
   "outputs": [
    {
     "data": {
      "image/png": "[encoded data removed]",
      "text/plain": [
       "<matplotlib.figure.Figure at 0x7f5d63862860>"
      ]
     },
     "metadata": {},
     "output_type": "display_data"
    }
   ],
   "source": [
    "sns.distplot(np.sqrt(bsizes)), sns.distplot(np.sqrt(asizes));"
   ]
  },
  {
   "cell_type": "code",
   "execution_count": 72,
   "metadata": {
    "collapsed": true
   },
   "outputs": [],
   "source": [
    "features = pd.DataFrame({'sqrt_bsize': np.sqrt(bsizes),\n",
    "                         'sqrt_asize': np.sqrt(asizes),\n",
    "                         'log_sz_ratio': log_sz_ratios,\n",
    "                         'trade_cnts_bid': trade_cnts_bid,\n",
    "                         'trade_cnts_ask': trade_cnts_ask,\n",
    "                         'empty_behind_bid': empty_behind_bid,\n",
    "                         'empty_behind_ask': empty_behind_ask,\n",
    "                        })"
   ]
  },
  {
   "cell_type": "code",
   "execution_count": 73,
   "metadata": {
    "collapsed": true
   },
   "outputs": [],
   "source": [
    "features['bsize_norm'] = (features['sqrt_bsize'] - features['sqrt_bsize'].mean()) / features['sqrt_bsize'].std()\n",
    "features['asize_norm'] = (features['sqrt_asize'] - features['sqrt_asize'].mean()) / features['sqrt_asize'].std()\n",
    "features['sz_ratio_norm'] = (features['log_sz_ratio'] - features['log_sz_ratio'].mean()) / features['log_sz_ratio'].std()"
   ]
  },
  {
   "cell_type": "code",
   "execution_count": 74,
   "metadata": {
    "collapsed": true
   },
   "outputs": [],
   "source": [
    "features = features.drop(columns=['sqrt_bsize', 'sqrt_asize', 'log_sz_ratio'])"
   ]
  },
  {
   "cell_type": "code",
   "execution_count": 76,
   "metadata": {},
   "outputs": [],
   "source": [
    "np.save('bid_goes_next_tick.npy', bid_goes_next_tick)\n",
    "np.save('ask_goes_next_tick.npy', ask_goes_next_tick)\n",
    "features.to_pickle('features.pkl')"
   ]
  },
  {
   "cell_type": "code",
   "execution_count": 77,
   "metadata": {
    "collapsed": true
   },
   "outputs": [],
   "source": [
    "bid_goes_next_tick = np.load('bid_goes_next_tick.npy')\n",
    "ask_goes_next_tick = np.load('ask_goes_next_tick.npy')\n",
    "features = pd.read_pickle('features.pkl')"
   ]
  },
  {
   "cell_type": "code",
   "execution_count": 78,
   "metadata": {},
   "outputs": [
    {
     "data": {
      "text/html": [
       "<div>\n",
       "<style scoped>\n",
       "    .dataframe tbody tr th:only-of-type {\n",
       "        vertical-align: middle;\n",
       "    }\n",
       "\n",
       "    .dataframe tbody tr th {\n",
       "        vertical-align: top;\n",
       "    }\n",
       "\n",
       "    .dataframe thead th {\n",
       "        text-align: right;\n",
       "    }\n",
       "</style>\n",
       "<table border=\"1\" class=\"dataframe\">\n",
       "  <thead>\n",
       "    <tr style=\"text-align: right;\">\n",
       "      <th></th>\n",
       "      <th>trade_cnts_bid</th>\n",
       "      <th>trade_cnts_ask</th>\n",
       "      <th>empty_behind_bid</th>\n",
       "      <th>empty_behind_ask</th>\n",
       "      <th>bsize_norm</th>\n",
       "      <th>asize_norm</th>\n",
       "      <th>sz_ratio_norm</th>\n",
       "    </tr>\n",
       "  </thead>\n",
       "  <tbody>\n",
       "    <tr>\n",
       "      <th>count</th>\n",
       "      <td>8.312070e+05</td>\n",
       "      <td>8.312070e+05</td>\n",
       "      <td>831207</td>\n",
       "      <td>831207</td>\n",
       "      <td>8.312070e+05</td>\n",
       "      <td>8.312070e+05</td>\n",
       "      <td>8.312070e+05</td>\n",
       "    </tr>\n",
       "    <tr>\n",
       "      <th>unique</th>\n",
       "      <td>NaN</td>\n",
       "      <td>NaN</td>\n",
       "      <td>2</td>\n",
       "      <td>2</td>\n",
       "      <td>NaN</td>\n",
       "      <td>NaN</td>\n",
       "      <td>NaN</td>\n",
       "    </tr>\n",
       "    <tr>\n",
       "      <th>top</th>\n",
       "      <td>NaN</td>\n",
       "      <td>NaN</td>\n",
       "      <td>False</td>\n",
       "      <td>False</td>\n",
       "      <td>NaN</td>\n",
       "      <td>NaN</td>\n",
       "      <td>NaN</td>\n",
       "    </tr>\n",
       "    <tr>\n",
       "      <th>freq</th>\n",
       "      <td>NaN</td>\n",
       "      <td>NaN</td>\n",
       "      <td>831159</td>\n",
       "      <td>831164</td>\n",
       "      <td>NaN</td>\n",
       "      <td>NaN</td>\n",
       "      <td>NaN</td>\n",
       "    </tr>\n",
       "    <tr>\n",
       "      <th>mean</th>\n",
       "      <td>1.109714e+00</td>\n",
       "      <td>1.209677e+00</td>\n",
       "      <td>NaN</td>\n",
       "      <td>NaN</td>\n",
       "      <td>1.356324e-12</td>\n",
       "      <td>6.741037e-13</td>\n",
       "      <td>8.108571e-16</td>\n",
       "    </tr>\n",
       "    <tr>\n",
       "      <th>std</th>\n",
       "      <td>4.920409e+00</td>\n",
       "      <td>5.121831e+00</td>\n",
       "      <td>NaN</td>\n",
       "      <td>NaN</td>\n",
       "      <td>1.000000e+00</td>\n",
       "      <td>1.000000e+00</td>\n",
       "      <td>1.000000e+00</td>\n",
       "    </tr>\n",
       "    <tr>\n",
       "      <th>min</th>\n",
       "      <td>0.000000e+00</td>\n",
       "      <td>0.000000e+00</td>\n",
       "      <td>NaN</td>\n",
       "      <td>NaN</td>\n",
       "      <td>-2.419799e+00</td>\n",
       "      <td>-2.336215e+00</td>\n",
       "      <td>-3.888714e+00</td>\n",
       "    </tr>\n",
       "    <tr>\n",
       "      <th>25%</th>\n",
       "      <td>0.000000e+00</td>\n",
       "      <td>0.000000e+00</td>\n",
       "      <td>NaN</td>\n",
       "      <td>NaN</td>\n",
       "      <td>-6.680344e-01</td>\n",
       "      <td>-7.172988e-01</td>\n",
       "      <td>-6.195179e-01</td>\n",
       "    </tr>\n",
       "    <tr>\n",
       "      <th>50%</th>\n",
       "      <td>0.000000e+00</td>\n",
       "      <td>0.000000e+00</td>\n",
       "      <td>NaN</td>\n",
       "      <td>NaN</td>\n",
       "      <td>1.238341e-01</td>\n",
       "      <td>8.891808e-02</td>\n",
       "      <td>9.406565e-03</td>\n",
       "    </tr>\n",
       "    <tr>\n",
       "      <th>75%</th>\n",
       "      <td>2.784920e-28</td>\n",
       "      <td>4.383006e-22</td>\n",
       "      <td>NaN</td>\n",
       "      <td>NaN</td>\n",
       "      <td>6.424365e-01</td>\n",
       "      <td>6.571547e-01</td>\n",
       "      <td>6.197166e-01</td>\n",
       "    </tr>\n",
       "    <tr>\n",
       "      <th>max</th>\n",
       "      <td>7.674255e+01</td>\n",
       "      <td>7.061473e+01</td>\n",
       "      <td>NaN</td>\n",
       "      <td>NaN</td>\n",
       "      <td>4.979794e+00</td>\n",
       "      <td>5.479391e+00</td>\n",
       "      <td>4.077358e+00</td>\n",
       "    </tr>\n",
       "  </tbody>\n",
       "</table>\n",
       "</div>"
      ],
      "text/plain": [
       "        trade_cnts_bid  trade_cnts_ask empty_behind_bid empty_behind_ask  \\\n",
       "count     8.312070e+05    8.312070e+05           831207           831207   \n",
       "unique             NaN             NaN                2                2   \n",
       "top                NaN             NaN            False            False   \n",
       "freq               NaN             NaN           831159           831164   \n",
       "mean      1.109714e+00    1.209677e+00              NaN              NaN   \n",
       "std       4.920409e+00    5.121831e+00              NaN              NaN   \n",
       "min       0.000000e+00    0.000000e+00              NaN              NaN   \n",
       "25%       0.000000e+00    0.000000e+00              NaN              NaN   \n",
       "50%       0.000000e+00    0.000000e+00              NaN              NaN   \n",
       "75%       2.784920e-28    4.383006e-22              NaN              NaN   \n",
       "max       7.674255e+01    7.061473e+01              NaN              NaN   \n",
       "\n",
       "          bsize_norm    asize_norm  sz_ratio_norm  \n",
       "count   8.312070e+05  8.312070e+05   8.312070e+05  \n",
       "unique           NaN           NaN            NaN  \n",
       "top              NaN           NaN            NaN  \n",
       "freq             NaN           NaN            NaN  \n",
       "mean    1.356324e-12  6.741037e-13   8.108571e-16  \n",
       "std     1.000000e+00  1.000000e+00   1.000000e+00  \n",
       "min    -2.419799e+00 -2.336215e+00  -3.888714e+00  \n",
       "25%    -6.680344e-01 -7.172988e-01  -6.195179e-01  \n",
       "50%     1.238341e-01  8.891808e-02   9.406565e-03  \n",
       "75%     6.424365e-01  6.571547e-01   6.197166e-01  \n",
       "max     4.979794e+00  5.479391e+00   4.077358e+00  "
      ]
     },
     "execution_count": 78,
     "metadata": {},
     "output_type": "execute_result"
    }
   ],
   "source": [
    "features.describe(include='all')"
   ]
  },
  {
   "cell_type": "code",
   "execution_count": 79,
   "metadata": {
    "collapsed": true
   },
   "outputs": [],
   "source": [
    "X = features.values\n",
    "y = np.transpose(np.stack((bid_goes_next_tick, ask_goes_next_tick)))"
   ]
  },
  {
   "cell_type": "code",
   "execution_count": 80,
   "metadata": {
    "collapsed": true
   },
   "outputs": [],
   "source": [
    "X_train, X_test, y_train, y_test = train_test_split(X, y, test_size=0.2, random_state=42)"
   ]
  },
  {
   "cell_type": "code",
   "execution_count": 81,
   "metadata": {
    "collapsed": true
   },
   "outputs": [],
   "source": [
    "y_train_bid, y_train_ask = np.transpose(y_train)\n",
    "y_test_bid, y_test_ask = np.transpose(y_test)"
   ]
  },
  {
   "cell_type": "markdown",
   "metadata": {},
   "source": [
    "# Baseline"
   ]
  },
  {
   "cell_type": "markdown",
   "metadata": {},
   "source": [
    "The function deviance_loss is as defined in the GradientBoostingClassifier class, which we use below. The function is equal to twice the binary cross-entropy loss. It doesn't seem to be accessible outside of the GradientBoostingClassifier class. We verify below that our implementation matches sklearn's."
   ]
  },
  {
   "cell_type": "code",
   "execution_count": 265,
   "metadata": {
    "collapsed": true
   },
   "outputs": [],
   "source": [
    "def deviance_loss(y_correct, y_log_odds):\n",
    "    return -2.0 * np.mean((y_correct * y_log_odds) - np.logaddexp(0.0, y_log_odds))"
   ]
  },
  {
   "cell_type": "markdown",
   "metadata": {},
   "source": [
    "As a most trivial baseline, we calculate the losses of always predicting that the probability of \"bid/ask gone\" is the frequency of these events in the trainig set. Note that among all constant predictions, predicting the correct frequency is the one which minimizes the deviance."
   ]
  },
  {
   "cell_type": "code",
   "execution_count": 266,
   "metadata": {},
   "outputs": [
    {
     "data": {
      "text/plain": [
       "(0.0065191401051183148, 0.0065071093967351669)"
      ]
     },
     "execution_count": 266,
     "metadata": {},
     "output_type": "execute_result"
    }
   ],
   "source": [
    "p_bid_gone = np.average(y_train_bid)\n",
    "p_ask_gone = np.average(y_train_ask)\n",
    "p_bid_gone, p_ask_gone"
   ]
  },
  {
   "cell_type": "code",
   "execution_count": 267,
   "metadata": {
    "collapsed": true
   },
   "outputs": [],
   "source": [
    "y_baseline_bid = np.full((y_test_bid.size,), np.log(p_bid_gone / (1-p_bid_gone)))\n",
    "y_baseline_ask = np.full((y_test_ask.size,), np.log(p_ask_gone / (1-p_ask_gone)))"
   ]
  },
  {
   "cell_type": "code",
   "execution_count": 268,
   "metadata": {},
   "outputs": [
    {
     "data": {
      "text/plain": [
       "(0.079902248537924464, 0.080447193186705443)"
      ]
     },
     "execution_count": 268,
     "metadata": {},
     "output_type": "execute_result"
    }
   ],
   "source": [
    "deviance_loss(y_test_bid, y_baseline_bid), deviance_loss(y_test_ask, y_baseline_ask)"
   ]
  },
  {
   "cell_type": "markdown",
   "metadata": {},
   "source": [
    "So the baseline that we seek to beat is a deviance of 8% on the test set."
   ]
  },
  {
   "cell_type": "markdown",
   "metadata": {},
   "source": [
    "# Logistic regression"
   ]
  },
  {
   "cell_type": "markdown",
   "metadata": {},
   "source": [
    "Advantages:\n",
    "* simplicity\n",
    "* interpretability of coefficients (for uncorrelated features)\n",
    "\n",
    "Disadvantages:\n",
    "* can only incorporate linear interactions between features\n",
    "* assumes that linear combinations of features are meaningful; scaling of features matters"
   ]
  },
  {
   "cell_type": "markdown",
   "metadata": {},
   "source": [
    "LogisticRegressionCV automatically chooses regularization parameters through cross-validation, but doesn't help with finding a good solver and regularization method. To do this, we split up X_train into X\\_train\\_ and X_val, and likewise for the y's."
   ]
  },
  {
   "cell_type": "code",
   "execution_count": 269,
   "metadata": {
    "collapsed": true
   },
   "outputs": [],
   "source": [
    "X_train_, X_val, y_train_, y_val = train_test_split(X_train, y_train, test_size=0.2, random_state=42)\n",
    "y_train_bid_, y_train_ask_ = np.transpose(y_train_)\n",
    "y_val_bid, y_val_ask = np.transpose(y_val)"
   ]
  },
  {
   "cell_type": "code",
   "execution_count": 278,
   "metadata": {
    "collapsed": true
   },
   "outputs": [],
   "source": [
    "def train_and_validate(X_train, y_train, X_val, y_val, solver, penalty):\n",
    "    clf = LogisticRegressionCV(cv=5, random_state=42, penalty=penalty, solver=solver)\n",
    "    clf.fit(X_train, y_train)\n",
    "    log_probs = clf.predict_log_proba(X_val)\n",
    "    log_odds = log_probs[:,1] - log_probs[:,0]\n",
    "    loss = deviance_loss(y_val, log_odds)    \n",
    "    print(f'deviance loss out of sample: {loss:.4f}')\n",
    "    return clf"
   ]
  },
  {
   "cell_type": "markdown",
   "metadata": {},
   "source": [
    "We can't use the L-BFGS solver with L1-regularization."
   ]
  },
  {
   "cell_type": "code",
   "execution_count": 329,
   "metadata": {},
   "outputs": [
    {
     "name": "stdout",
     "output_type": "stream",
     "text": [
      "deviance loss out of sample: 0.0340\n",
      "deviance loss out of sample: 0.0337\n",
      "deviance loss out of sample: 0.0348\n",
      "deviance loss out of sample: 0.0345\n",
      "deviance loss out of sample: 0.0352\n",
      "deviance loss out of sample: 0.0348\n"
     ]
    },
    {
     "data": {
      "text/plain": [
       "LogisticRegressionCV(Cs=10, class_weight=None, cv=5, dual=False,\n",
       "           fit_intercept=True, intercept_scaling=1.0, max_iter=100,\n",
       "           multi_class='ovr', n_jobs=1, penalty='l1', random_state=42,\n",
       "           refit=True, scoring=None, solver='liblinear', tol=0.0001,\n",
       "           verbose=0)"
      ]
     },
     "execution_count": 329,
     "metadata": {},
     "output_type": "execute_result"
    }
   ],
   "source": [
    "train_and_validate(X_train_, y_train_bid_, X_val, y_val_bid, 'lbfgs', 'l2')\n",
    "train_and_validate(X_train_, y_train_ask_, X_val, y_val_ask, 'lbfgs', 'l2')\n",
    "train_and_validate(X_train_, y_train_bid_, X_val, y_val_bid, 'liblinear', 'l2')\n",
    "train_and_validate(X_train_, y_train_ask_, X_val, y_val_ask, 'liblinear', 'l2')\n",
    "train_and_validate(X_train_, y_train_bid_, X_val, y_val_bid, 'liblinear', 'l1')\n",
    "train_and_validate(X_train_, y_train_ask_, X_val, y_val_ask, 'liblinear', 'l1')"
   ]
  },
  {
   "cell_type": "markdown",
   "metadata": {},
   "source": [
    "L-BFGS with L2-regulariztion works best on the validation set. Now train a classifier with this setting on the full training set and test on the test set."
   ]
  },
  {
   "cell_type": "code",
   "execution_count": 279,
   "metadata": {},
   "outputs": [
    {
     "name": "stdout",
     "output_type": "stream",
     "text": [
      "deviance loss out of sample: 0.0346\n",
      "deviance loss out of sample: 0.0350\n"
     ]
    }
   ],
   "source": [
    "logreg_clf_bid = train_and_validate(X_train, y_train_bid, X_test, y_test_bid, 'lbfgs', 'l2')\n",
    "logreg_clf_ask = train_and_validate(X_train, y_train_ask, X_test, y_test_ask, 'lbfgs', 'l2')"
   ]
  },
  {
   "cell_type": "markdown",
   "metadata": {},
   "source": [
    "Logistic regression clearly outperforms the baseline on the test set."
   ]
  },
  {
   "cell_type": "code",
   "execution_count": 280,
   "metadata": {},
   "outputs": [
    {
     "data": {
      "text/plain": [
       "Index(['trade_cnts_bid', 'trade_cnts_ask', 'empty_behind_bid',\n",
       "       'empty_behind_ask', 'bsize_norm', 'asize_norm', 'sz_ratio_norm'],\n",
       "      dtype='object')"
      ]
     },
     "execution_count": 280,
     "metadata": {},
     "output_type": "execute_result"
    }
   ],
   "source": [
    "features.columns"
   ]
  },
  {
   "cell_type": "code",
   "execution_count": 282,
   "metadata": {},
   "outputs": [
    {
     "data": {
      "text/plain": [
       "(array([[  4.87010488e-02,  -5.64345990e-02,   1.26329800e-01,\n",
       "          -2.92707078e-06,  -2.97015630e+00,  -3.32129779e-01,\n",
       "          -1.37157265e+00]]),\n",
       " array([[ -3.41108837e-02,   5.05781496e-02,  -2.13147714e-06,\n",
       "           4.11460342e-01,  -3.70531387e-01,  -2.78253345e+00,\n",
       "           1.50795425e+00]]))"
      ]
     },
     "execution_count": 282,
     "metadata": {},
     "output_type": "execute_result"
    }
   ],
   "source": [
    "logreg_clf_bid.coef_, logreg_clf_ask.coef_"
   ]
  },
  {
   "cell_type": "markdown",
   "metadata": {},
   "source": [
    "Based on the regression coefficients, the size-based features seem most useful (note that all features have a scale of unity). Note that while bsize_norm and asize_norm have opposite-sign correlations with \"bid/ask gone\", the coefficients on both of these are negative in both classifiers. This is not so surprising because these are correlated with the sz_ratio_norm feature, whose coefficients have the expected sign."
   ]
  },
  {
   "cell_type": "markdown",
   "metadata": {},
   "source": [
    "Following are the regularization coefficients in the L2 regularization. The minimal and maximal regularization coefficients that LogisticRegressionCV tries by default are 1e-4 and 1e+4, respectively. N.B. that a smaller coefficient means more regularization. We note that sz_ratio_norm is minimally regularized (1e+4), while the trade_cnt features are (close to) maximally regularized (1e-4)."
   ]
  },
  {
   "cell_type": "code",
   "execution_count": 284,
   "metadata": {},
   "outputs": [
    {
     "data": {
      "text/plain": [
       "(array([  1.00000000e-04,   7.74263683e-04,   5.99484250e-03,\n",
       "          4.64158883e-02,   3.59381366e-01,   2.78255940e+00,\n",
       "          2.15443469e+01,   1.66810054e+02,   1.29154967e+03,\n",
       "          1.00000000e+04]),\n",
       " array([  1.00000000e-04,   7.74263683e-04,   5.99484250e-03,\n",
       "          4.64158883e-02,   3.59381366e-01,   2.78255940e+00,\n",
       "          2.15443469e+01,   1.66810054e+02,   1.29154967e+03,\n",
       "          1.00000000e+04]))"
      ]
     },
     "execution_count": 284,
     "metadata": {},
     "output_type": "execute_result"
    }
   ],
   "source": [
    "logreg_clf_bid.Cs_, logreg_clf_ask.Cs_"
   ]
  },
  {
   "cell_type": "markdown",
   "metadata": {},
   "source": [
    "Finally, we check that both the size-based features on their own and all non-size-based features together produce notably worse models than the full set of features."
   ]
  },
  {
   "cell_type": "code",
   "execution_count": 328,
   "metadata": {},
   "outputs": [
    {
     "name": "stdout",
     "output_type": "stream",
     "text": [
      "deviance loss out of sample: 0.0740\n",
      "deviance loss out of sample: 0.0745\n",
      "deviance loss out of sample: 0.0525\n",
      "deviance loss out of sample: 0.0535\n"
     ]
    },
    {
     "data": {
      "text/plain": [
       "LogisticRegressionCV(Cs=10, class_weight=None, cv=5, dual=False,\n",
       "           fit_intercept=True, intercept_scaling=1.0, max_iter=100,\n",
       "           multi_class='ovr', n_jobs=1, penalty='l2', random_state=42,\n",
       "           refit=True, scoring=None, solver='lbfgs', tol=0.0001, verbose=0)"
      ]
     },
     "execution_count": 328,
     "metadata": {},
     "output_type": "execute_result"
    }
   ],
   "source": [
    "train_and_validate(X_train[:,:4], y_train_bid, X_test[:,:4], y_test_bid, 'lbfgs', 'l2')\n",
    "train_and_validate(X_train[:,:4], y_train_ask, X_test[:,:4], y_test_ask, 'lbfgs', 'l2')\n",
    "train_and_validate(X_train[:,4:], y_train_bid, X_test[:,4:], y_test_bid, 'lbfgs', 'l2')\n",
    "train_and_validate(X_train[:,4:], y_train_ask, X_test[:,4:], y_test_ask, 'lbfgs', 'l2')"
   ]
  },
  {
   "cell_type": "markdown",
   "metadata": {},
   "source": [
    "# Gradient boosting model"
   ]
  },
  {
   "cell_type": "markdown",
   "metadata": {},
   "source": [
    "Advantages:\n",
    "* can represent complex interactions between features\n",
    "* scaling of features doesn't matter\n",
    "* insensitive to useless features\n",
    "* hard to overfit\n",
    "* has explicit \"feature importances\"\n",
    "\n",
    "Disadvantages:\n",
    "* hard to tune well\n",
    "* lack of interpretability"
   ]
  },
  {
   "cell_type": "markdown",
   "metadata": {},
   "source": [
    "One crucial hyperparameter in boosted decision trees is the max_depth of each tree. To choose between the values 2, 3, and 4 we perform 5-fold cross-validation using up to 400 trees. Once we have determined a good value for max_depth, we will train for longer (more than 400 trees).\n",
    "\n",
    "Because our training set is quite large, we subsample 10% of our training set for each individual tree (\"stochastic gradient boosting\"). This both helps with regularization and speeds up training."
   ]
  },
  {
   "cell_type": "code",
   "execution_count": 285,
   "metadata": {
    "collapsed": true
   },
   "outputs": [],
   "source": [
    "n_estimators = 400 "
   ]
  },
  {
   "cell_type": "code",
   "execution_count": 286,
   "metadata": {
    "collapsed": true
   },
   "outputs": [],
   "source": [
    "params = {'loss': 'deviance', \n",
    "          'n_estimators': n_estimators,\n",
    "          'max_depth': -1, # try different values below \n",
    "          'subsample': 0.1, \n",
    "          'learning_rate': 0.01, \n",
    "          'min_samples_leaf': 10,\n",
    "          'random_state': 42,\n",
    "         }"
   ]
  },
  {
   "cell_type": "code",
   "execution_count": 311,
   "metadata": {
    "collapsed": true
   },
   "outputs": [],
   "source": [
    "def holdout_losses(clf, X_holdout, y_holdout):\n",
    "    n_estimators = clf.n_estimators\n",
    "    losses = np.zeros((n_estimators,), dtype=np.float64)\n",
    "    for i, y_pred in enumerate(clf.staged_decision_function(X_holdout)):\n",
    "        losses[i] = clf.loss_(y_holdout, y_pred) \n",
    "    return losses"
   ]
  },
  {
   "cell_type": "code",
   "execution_count": 312,
   "metadata": {
    "collapsed": true
   },
   "outputs": [],
   "source": [
    "def cv_estimate(X_train, y_train, params, n_splits):\n",
    "    n_estimators = params['n_estimators']\n",
    "    cv = KFold(n_splits=n_splits)\n",
    "    cv_clf = ensemble.GradientBoostingClassifier(**params)\n",
    "    val_losses = np.zeros((n_estimators,), dtype=np.float64)\n",
    "    for train, test in cv.split(X_train, y_train):\n",
    "        cv_clf.fit(X_train[train], y_train[train])\n",
    "        val_losses += holdout_losses(cv_clf, X_train[test], y_train[test])\n",
    "    return val_losses / n_splits"
   ]
  },
  {
   "cell_type": "code",
   "execution_count": 289,
   "metadata": {},
   "outputs": [
    {
     "name": "stdout",
     "output_type": "stream",
     "text": [
      "starting bid, max_depth = 2\n",
      "starting ask, max_depth = 2\n",
      "starting bid, max_depth = 3\n",
      "starting ask, max_depth = 3\n",
      "starting bid, max_depth = 4\n",
      "starting ask, max_depth = 4\n"
     ]
    }
   ],
   "source": [
    "cross_val_losses = pd.DataFrame()\n",
    "\n",
    "for max_depth in [2, 3, 4]:\n",
    "    for side in ['bid', 'ask']:\n",
    "        print(f'starting {side}, max_depth = {max_depth}')\n",
    "        params['max_depth'] = max_depth\n",
    "        y_train = y_train_bid if side == 'bid' else y_train_ask\n",
    "        cross_val_losses[f'{side},{max_depth}'] = cv_estimate(X_train, y_train, params, n_splits=5) "
   ]
  },
  {
   "cell_type": "code",
   "execution_count": 290,
   "metadata": {},
   "outputs": [
    {
     "data": {
      "image/png": "[encoded data removed]",
      "text/plain": [
       "<matplotlib.figure.Figure at 0x7f353c8d0438>"
      ]
     },
     "metadata": {},
     "output_type": "display_data"
    },
    {
     "data": {
      "image/png": "[encoded data removed]",
      "text/plain": [
       "<matplotlib.figure.Figure at 0x7f3537603eb8>"
      ]
     },
     "metadata": {},
     "output_type": "display_data"
    }
   ],
   "source": [
    "x = np.arange(n_estimators) + 1 \n",
    "for side in ['bid', 'ask']:\n",
    "    fig, ax = plt.subplots()\n",
    "    for max_depth in [2, 3, 4]:\n",
    "        ax.plot(x, cross_val_losses[f'{side},{max_depth}'], label=f'\"{side} gone\", max_depth={max_depth}')\n",
    "    plt.xlabel('n_estimators', fontsize=16)\n",
    "    plt.ylabel('cross val devicance', fontsize=16)\n",
    "    ax.legend();"
   ]
  },
  {
   "cell_type": "code",
   "execution_count": 291,
   "metadata": {},
   "outputs": [
    {
     "data": {
      "text/html": [
       "<div>\n",
       "<style scoped>\n",
       "    .dataframe tbody tr th:only-of-type {\n",
       "        vertical-align: middle;\n",
       "    }\n",
       "\n",
       "    .dataframe tbody tr th {\n",
       "        vertical-align: top;\n",
       "    }\n",
       "\n",
       "    .dataframe thead th {\n",
       "        text-align: right;\n",
       "    }\n",
       "</style>\n",
       "<table border=\"1\" class=\"dataframe\">\n",
       "  <thead>\n",
       "    <tr style=\"text-align: right;\">\n",
       "      <th></th>\n",
       "      <th>bid,2</th>\n",
       "      <th>ask,2</th>\n",
       "      <th>bid,3</th>\n",
       "      <th>ask,3</th>\n",
       "      <th>bid,4</th>\n",
       "      <th>ask,4</th>\n",
       "    </tr>\n",
       "  </thead>\n",
       "  <tbody>\n",
       "    <tr>\n",
       "      <th>395</th>\n",
       "      <td>0.029743</td>\n",
       "      <td>0.030346</td>\n",
       "      <td>0.028840</td>\n",
       "      <td>0.029394</td>\n",
       "      <td>0.028482</td>\n",
       "      <td>0.029059</td>\n",
       "    </tr>\n",
       "    <tr>\n",
       "      <th>396</th>\n",
       "      <td>0.029742</td>\n",
       "      <td>0.030341</td>\n",
       "      <td>0.028839</td>\n",
       "      <td>0.029390</td>\n",
       "      <td>0.028481</td>\n",
       "      <td>0.029057</td>\n",
       "    </tr>\n",
       "    <tr>\n",
       "      <th>397</th>\n",
       "      <td>0.029739</td>\n",
       "      <td>0.030338</td>\n",
       "      <td>0.028837</td>\n",
       "      <td>0.029387</td>\n",
       "      <td>0.028479</td>\n",
       "      <td>0.029056</td>\n",
       "    </tr>\n",
       "    <tr>\n",
       "      <th>398</th>\n",
       "      <td>0.029739</td>\n",
       "      <td>0.030333</td>\n",
       "      <td>0.028836</td>\n",
       "      <td>0.029384</td>\n",
       "      <td>0.028478</td>\n",
       "      <td>0.029052</td>\n",
       "    </tr>\n",
       "    <tr>\n",
       "      <th>399</th>\n",
       "      <td>0.029730</td>\n",
       "      <td>0.030332</td>\n",
       "      <td>0.028829</td>\n",
       "      <td>0.029384</td>\n",
       "      <td>0.028472</td>\n",
       "      <td>0.029051</td>\n",
       "    </tr>\n",
       "  </tbody>\n",
       "</table>\n",
       "</div>"
      ],
      "text/plain": [
       "        bid,2     ask,2     bid,3     ask,3     bid,4     ask,4\n",
       "395  0.029743  0.030346  0.028840  0.029394  0.028482  0.029059\n",
       "396  0.029742  0.030341  0.028839  0.029390  0.028481  0.029057\n",
       "397  0.029739  0.030338  0.028837  0.029387  0.028479  0.029056\n",
       "398  0.029739  0.030333  0.028836  0.029384  0.028478  0.029052\n",
       "399  0.029730  0.030332  0.028829  0.029384  0.028472  0.029051"
      ]
     },
     "execution_count": 291,
     "metadata": {},
     "output_type": "execute_result"
    }
   ],
   "source": [
    "cross_val_losses.tail()"
   ]
  },
  {
   "cell_type": "markdown",
   "metadata": {},
   "source": [
    "Now train classifiers with max_depth = 4 for longer and on the whole training set."
   ]
  },
  {
   "cell_type": "code",
   "execution_count": 318,
   "metadata": {
    "collapsed": true
   },
   "outputs": [],
   "source": [
    "params['max_depth'] = 4\n",
    "params['n_estimators'] = 2000\n",
    "params['verbose'] = 1"
   ]
  },
  {
   "cell_type": "code",
   "execution_count": 326,
   "metadata": {},
   "outputs": [
    {
     "name": "stdout",
     "output_type": "stream",
     "text": [
      "      Iter       Train Loss      OOB Improve   Remaining Time \n",
      "         1           0.0735           0.0082           13.65m\n",
      "         2           0.0698           0.0032           12.40m\n",
      "         3           0.0678           0.0023           12.97m\n",
      "         4           0.0633           0.0019           13.30m\n",
      "         5           0.0635           0.0016           13.41m\n",
      "         6           0.0609           0.0014           13.46m\n",
      "         7           0.0565           0.0012           13.54m\n",
      "         8           0.0595           0.0011           13.48m\n",
      "         9           0.0558           0.0010           13.44m\n",
      "        10           0.0541           0.0010           13.27m\n",
      "        20           0.0485           0.0005           11.94m\n",
      "        30           0.0438           0.0003           11.47m\n",
      "        40           0.0438           0.0003           11.23m\n",
      "        50           0.0397           0.0002           11.33m\n",
      "        60           0.0376           0.0002           11.28m\n",
      "        70           0.0369           0.0001           11.47m\n",
      "        80           0.0365           0.0001           11.40m\n",
      "        90           0.0341           0.0001           11.26m\n",
      "       100           0.0318           0.0001           11.21m\n",
      "       200           0.0301           0.0000           10.26m\n",
      "       300           0.0280           0.0000            9.78m\n",
      "       400           0.0280          -0.0000            9.18m\n",
      "       500           0.0269           0.0000            8.33m\n",
      "       600           0.0260          -0.0000            7.74m\n",
      "       700           0.0245          -0.0000            7.07m\n",
      "       800           0.0265          -0.0000            6.44m\n",
      "       900           0.0285          -0.0000            5.90m\n",
      "      1000           0.0284          -0.0000            5.32m\n",
      "      2000           0.0261          -0.0000            0.00s\n"
     ]
    },
    {
     "data": {
      "text/plain": [
       "GradientBoostingClassifier(criterion='friedman_mse', init=None,\n",
       "              learning_rate=0.01, loss='deviance', max_depth=4,\n",
       "              max_features=None, max_leaf_nodes=None,\n",
       "              min_impurity_split=1e-07, min_samples_leaf=10,\n",
       "              min_samples_split=2, min_weight_fraction_leaf=0.0,\n",
       "              n_estimators=2000, presort='auto', random_state=42,\n",
       "              subsample=0.1, verbose=1, warm_start=False)"
      ]
     },
     "execution_count": 326,
     "metadata": {},
     "output_type": "execute_result"
    }
   ],
   "source": [
    "gbm_clf_bid = ensemble.GradientBoostingClassifier(**params)\n",
    "gbm_clf_bid.fit(X_train, y_train_bid)"
   ]
  },
  {
   "cell_type": "code",
   "execution_count": 327,
   "metadata": {},
   "outputs": [
    {
     "name": "stdout",
     "output_type": "stream",
     "text": [
      "      Iter       Train Loss      OOB Improve   Remaining Time \n",
      "         1           0.0732           0.0077           10.71m\n",
      "         2           0.0671           0.0032           10.90m\n",
      "         3           0.0609           0.0023           11.32m\n",
      "         4           0.0595           0.0019           11.57m\n",
      "         5           0.0586           0.0017           11.69m\n",
      "         6           0.0617           0.0014           11.79m\n",
      "         7           0.0587           0.0012           11.85m\n",
      "         8           0.0546           0.0011           11.89m\n",
      "         9           0.0574           0.0011           11.76m\n",
      "        10           0.0539           0.0009           11.68m\n",
      "        20           0.0510           0.0005           11.94m\n",
      "        30           0.0466           0.0003           11.74m\n",
      "        40           0.0449           0.0003           11.49m\n",
      "        50           0.0384           0.0002           11.46m\n",
      "        60           0.0386           0.0002           11.17m\n",
      "        70           0.0375           0.0001           11.16m\n",
      "        80           0.0337           0.0001           11.02m\n",
      "        90           0.0344           0.0001           10.94m\n",
      "       100           0.0338           0.0001           10.85m\n",
      "       200           0.0276           0.0000            9.97m\n",
      "       300           0.0279           0.0000            9.08m\n",
      "       400           0.0293           0.0000            8.38m\n",
      "       500           0.0269          -0.0000            7.76m\n",
      "       600           0.0266          -0.0000            7.21m\n",
      "       700           0.0259           0.0000            6.63m\n",
      "       800           0.0255          -0.0000            6.10m\n",
      "       900           0.0282          -0.0000            5.58m\n",
      "      1000           0.0278          -0.0000            5.07m\n",
      "      2000           0.0263          -0.0000            0.00s\n"
     ]
    },
    {
     "data": {
      "text/plain": [
       "GradientBoostingClassifier(criterion='friedman_mse', init=None,\n",
       "              learning_rate=0.01, loss='deviance', max_depth=4,\n",
       "              max_features=None, max_leaf_nodes=None,\n",
       "              min_impurity_split=1e-07, min_samples_leaf=10,\n",
       "              min_samples_split=2, min_weight_fraction_leaf=0.0,\n",
       "              n_estimators=2000, presort='auto', random_state=42,\n",
       "              subsample=0.1, verbose=1, warm_start=False)"
      ]
     },
     "execution_count": 327,
     "metadata": {},
     "output_type": "execute_result"
    }
   ],
   "source": [
    "gbm_clf_ask = ensemble.GradientBoostingClassifier(**params)\n",
    "gbm_clf_ask.fit(X_train, y_train_ask)"
   ]
  },
  {
   "cell_type": "code",
   "execution_count": 334,
   "metadata": {
    "collapsed": true
   },
   "outputs": [],
   "source": [
    "bid_test_losses = holdout_losses(gbm_clf_bid, X_test, y_test_bid)\n",
    "ask_test_losses = holdout_losses(gbm_clf_ask, X_test, y_test_ask)"
   ]
  },
  {
   "cell_type": "code",
   "execution_count": 336,
   "metadata": {},
   "outputs": [
    {
     "data": {
      "image/png": "[encoded data removed]",
      "text/plain": [
       "<matplotlib.figure.Figure at 0x7f353452d4e0>"
      ]
     },
     "metadata": {},
     "output_type": "display_data"
    }
   ],
   "source": [
    "x = np.arange(2000) + 1 \n",
    "fig, ax = plt.subplots()\n",
    "ax.plot(x, bid_test_losses, label=f'\"bid gone\"')\n",
    "ax.plot(x, ask_test_losses, label=f'\"ask gone\"')\n",
    "plt.xlabel('n_estimators', fontsize=16)\n",
    "plt.ylabel('test set devicance', fontsize=16)\n",
    "ax.legend();"
   ]
  },
  {
   "cell_type": "code",
   "execution_count": 337,
   "metadata": {},
   "outputs": [
    {
     "data": {
      "text/plain": [
       "(0.028298001336269911, 0.029528630582238837)"
      ]
     },
     "execution_count": 337,
     "metadata": {},
     "output_type": "execute_result"
    }
   ],
   "source": [
    "bid_test_losses[-1], ask_test_losses[-1]"
   ]
  },
  {
   "cell_type": "markdown",
   "metadata": {},
   "source": [
    "The gradient boosted trees do notably better than logistic regression, at the cost of being harder to tune and taking longer to train. We also note that the final training losses of the boosted trees (0.026) are only a little smaller than the final test set losses (0.028, 0.030), showing that with 2000 trees we are not yet seriously overfitting our training set."
   ]
  },
  {
   "cell_type": "markdown",
   "metadata": {},
   "source": [
    "Let us verify that we get the same loss values with our implementation of the deviance function."
   ]
  },
  {
   "cell_type": "code",
   "execution_count": 344,
   "metadata": {
    "collapsed": true
   },
   "outputs": [],
   "source": [
    "def test_loss(clf, y_test):\n",
    "    log_probs = clf.predict_log_proba(X_test)\n",
    "    log_odds = log_probs[:,1] - log_probs[:,0]\n",
    "    return deviance_loss(y_test, log_odds)"
   ]
  },
  {
   "cell_type": "code",
   "execution_count": 345,
   "metadata": {},
   "outputs": [
    {
     "data": {
      "text/plain": [
       "(0.028298001336269911, 0.029528630582238837)"
      ]
     },
     "execution_count": 345,
     "metadata": {},
     "output_type": "execute_result"
    }
   ],
   "source": [
    "test_loss(gbm_clf_bid, y_test_bid), test_loss(gbm_clf_ask, y_test_ask)"
   ]
  },
  {
   "cell_type": "code",
   "execution_count": 347,
   "metadata": {},
   "outputs": [
    {
     "data": {
      "text/plain": [
       "Index(['trade_cnts_bid', 'trade_cnts_ask', 'empty_behind_bid',\n",
       "       'empty_behind_ask', 'bsize_norm', 'asize_norm', 'sz_ratio_norm'],\n",
       "      dtype='object')"
      ]
     },
     "execution_count": 347,
     "metadata": {},
     "output_type": "execute_result"
    }
   ],
   "source": [
    "features.columns"
   ]
  },
  {
   "cell_type": "code",
   "execution_count": 348,
   "metadata": {},
   "outputs": [
    {
     "data": {
      "text/plain": [
       "(array([  2.61691935e-01,   6.33927511e-02,   2.63009198e-05,\n",
       "          0.00000000e+00,   1.16027910e-01,   1.40597639e-01,\n",
       "          4.18263464e-01]),\n",
       " array([  5.88330179e-02,   2.68814706e-01,   0.00000000e+00,\n",
       "          2.84031336e-04,   1.38708490e-01,   1.02486377e-01,\n",
       "          4.30873377e-01]))"
      ]
     },
     "execution_count": 348,
     "metadata": {},
     "output_type": "execute_result"
    }
   ],
   "source": [
    "gbm_clf_bid.feature_importances_, gbm_clf_ask.feature_importances_"
   ]
  },
  {
   "cell_type": "markdown",
   "metadata": {},
   "source": [
    "We see that the features related to top-of-book sizes are most important, followed by the count of recent trades that happened on the side we are interested in."
   ]
  },
  {
   "cell_type": "code",
   "execution_count": 373,
   "metadata": {
    "collapsed": true
   },
   "outputs": [],
   "source": [
    "with open('gbm_clf_bid.pkl', 'wb') as p:\n",
    "    pickle.dump(gbm_clf_bid, p)\n",
    "\n",
    "with open('gbm_clf_ask.pkl', 'wb') as p:\n",
    "    pickle.dump(gbm_clf_ask, p)"
   ]
  },
  {
   "cell_type": "markdown",
   "metadata": {},
   "source": [
    "# Output data set"
   ]
  },
  {
   "cell_type": "markdown",
   "metadata": {},
   "source": [
    "We output the full data set of all features, whether the bid/ask \"goes\" on the next tick, and the probability our model assigns to these events. We index the data by the time of the respective tick."
   ]
  },
  {
   "cell_type": "code",
   "execution_count": 82,
   "metadata": {
    "collapsed": true
   },
   "outputs": [],
   "source": [
    "with open('gbm_clf_bid.pkl', 'rb') as p:\n",
    "    gbm_clf_bid = pickle.load(p)\n",
    "    \n",
    "with open('gbm_clf_ask.pkl', 'rb') as p:\n",
    "    gbm_clf_ask = pickle.load(p)"
   ]
  },
  {
   "cell_type": "code",
   "execution_count": 83,
   "metadata": {
    "collapsed": true
   },
   "outputs": [],
   "source": [
    "full_data = features.copy()"
   ]
  },
  {
   "cell_type": "code",
   "execution_count": 84,
   "metadata": {
    "collapsed": true
   },
   "outputs": [],
   "source": [
    "full_data['bid_goes_next_tick'] = bid_goes_next_tick\n",
    "full_data['ask_goes_next_tick'] = ask_goes_next_tick"
   ]
  },
  {
   "cell_type": "code",
   "execution_count": 85,
   "metadata": {
    "collapsed": true
   },
   "outputs": [],
   "source": [
    "prob_bid_goes_next_tick = gbm_clf_bid.predict_proba(features.values)\n",
    "prob_ask_goes_next_tick = gbm_clf_ask.predict_proba(features.values)"
   ]
  },
  {
   "cell_type": "code",
   "execution_count": 90,
   "metadata": {},
   "outputs": [],
   "source": [
    "full_data['prob_bid_goes_next_tick'] = prob_bid_goes_next_tick[:,1]\n",
    "full_data['prob_ask_goes_next_tick'] = prob_ask_goes_next_tick[:,1]"
   ]
  },
  {
   "cell_type": "code",
   "execution_count": 92,
   "metadata": {
    "collapsed": true
   },
   "outputs": [],
   "source": [
    "full_data['time'] = [tick['time'] for tick in data]"
   ]
  },
  {
   "cell_type": "code",
   "execution_count": 94,
   "metadata": {},
   "outputs": [],
   "source": [
    "full_data = full_data.set_index('time')"
   ]
  },
  {
   "cell_type": "code",
   "execution_count": 134,
   "metadata": {},
   "outputs": [],
   "source": [
    "full_data.to_csv('full_data.csv')"
   ]
  },
  {
   "cell_type": "markdown",
   "metadata": {},
   "source": [
    "# Visualizing model predictions\n",
    "\n",
    "Let us see how the average probabilities prob\\_{bid,ask}\\_goes_next_tick change in the ticks around when these events actually happen."
   ]
  },
  {
   "cell_type": "code",
   "execution_count": 142,
   "metadata": {},
   "outputs": [
    {
     "data": {
      "image/png": "[encoded data removed]",
      "text/plain": [
       "<matplotlib.figure.Figure at 0x7f5d5c9e2630>"
      ]
     },
     "metadata": {},
     "output_type": "display_data"
    }
   ],
   "source": [
    "offsets = np.arange(-7, 4)\n",
    "prob_bid_goes = [full_data[full_data['bid_goes_next_tick'].shift(o).fillna(False)]['prob_bid_goes_next_tick'].mean()\n",
    "                for o in offsets]\n",
    "prob_ask_goes = [full_data[full_data['ask_goes_next_tick'].shift(o).fillna(False)]['prob_ask_goes_next_tick'].mean()\n",
    "                for o in offsets]\n",
    "fig, ax = plt.subplots()\n",
    "plt.scatter(offsets - 1, prob_bid_goes, label='Pr[\"bid goes\"]')\n",
    "plt.scatter(offsets - 1, prob_ask_goes, label='Pr[\"ask goes\"]')\n",
    "plt.xlabel('ticks after \"bid/ask goes\"', fontsize=16)\n",
    "plt.ylabel('Pr[\"bid/ask goes\"]', fontsize=16)\n",
    "ax.legend();"
   ]
  },
  {
   "cell_type": "markdown",
   "metadata": {},
   "source": [
    "We see that the model's predicted probability that the bid/ask \"goes\" on the next tick spikes right before it happens and then sharply drops on the tick on which the level \"goes.\"\n",
    "\n",
    "This can also be seen by looking at a few seconds of tick data."
   ]
  },
  {
   "cell_type": "code",
   "execution_count": 144,
   "metadata": {},
   "outputs": [
    {
     "data": {
      "image/png": "[encoded data removed]",
      "text/plain": [
       "<matplotlib.figure.Figure at 0x7f5d5ca4d9b0>"
      ]
     },
     "metadata": {},
     "output_type": "display_data"
    }
   ],
   "source": [
    "from_ = 10**5\n",
    "to = from_+10**3\n",
    "x = full_data.index[from_:to] / 10**9\n",
    "fig, ax = plt.subplots()\n",
    "plt.scatter(x, full_data['prob_bid_goes_next_tick'][from_:to], label='Pr[\"bid goes\"]')\n",
    "plt.scatter(x, full_data['bid_goes_next_tick'].shift(1).fillna(False)[from_:to], label=\"bid goes\")\n",
    "plt.xlabel('time in seconds', fontsize=16)\n",
    "ax.legend();"
   ]
  },
  {
   "cell_type": "markdown",
   "metadata": {},
   "source": [
    "# Discussion\n",
    "\n",
    "Based on one day's worth of tick-level data, we tried to predict events in which a top-of-book price level (bid or ask) \"goes.\" We saw that a number of features indeed have some predictive value: top-of-book size on the same and opposite side; recent trade count; the price level behind top-of-book being empty (this feature turned out to be not very useful, since it is rarely the case).\n",
    "\n",
    "A logistic regression and gradient boosted decision trees both clearly outperformed a trivial baseline. Gradient boosting takes longer to train and has more hyperparameters to tune, but eventually led to better results. We saw that our model's predicted probability for a level \"going\" starts to increase several ticks before this actually happens, and reaches a sharp maximum on the tick right before it happens.\n",
    "\n",
    "Our work could be extended both on the feature extraction and on the modelling side. On the feature side, we could include variations and extensions of the current features, such as trade counts with different half-lives or recent changes of the top-of-book sizes. (Intuition: if recently size has been added to the bid, then the bid is less likely to \"go.\") It also seems likely that top-of-book levels are less likely to \"go\" when the spread is larger than its minimal value of 5 (which is rarely the case). Other promising features are recent price moves, including price moves in other instruments which are correlated with the one we are studying but more liquid.\n",
    "\n",
    "On the modelling side, our results could likely be improved by giving the numerous hyperparameters of the gradient boosted trees some more thought. Finally, it seems promising to try models that are inherently well-suited for time-series data, such as LSTM."
   ]
  }
 ],
 "metadata": {
  "kernelspec": {
   "display_name": "Python [default]",
   "language": "python",
   "name": "python3"
  },
  "language_info": {
   "codemirror_mode": {
    "name": "ipython",
    "version": 3
   },
   "file_extension": ".py",
   "mimetype": "text/x-python",
   "name": "python",
   "nbconvert_exporter": "python",
   "pygments_lexer": "ipython3",
   "version": "3.6.6"
  }
 },
 "nbformat": 4,
 "nbformat_minor": 2
}
